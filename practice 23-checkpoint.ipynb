{
 "cells": [
  {
   "cell_type": "code",
   "execution_count": null,
   "id": "86f15d23",
   "metadata": {},
   "outputs": [],
   "source": [
    "x=int(input(\"enter a positive number :\"))\n",
    "if x<10:\n",
    "    print(\"x is a 1 digit number :\",x)\n",
    "elif x<100:\n",
    "    print(\"x is a 2 digit  number :\",x)\n",
    "elif x<1000:\n",
    "    print(\"x is a 3 digit number :\",x)\n",
    "else:\n",
    "    print(\"x have more than 3 digits\",x)"
   ]
  },
  {
   "cell_type": "code",
   "execution_count": null,
   "id": "f69ea6d5",
   "metadata": {},
   "outputs": [],
   "source": [
    "a=int(input(\"enter a natural number :\"))\n",
    "b=int(input(\"enter a natural number :\"))\n",
    "op=input(\"enter op to calculate the given values[+,-,/,*]\")\n",
    "if op==\"+\":\n",
    "    add=a+b\n",
    "    print(\"sum of numbers :\",add)\n",
    "elif  op==\"-\":\n",
    "    if a>b:\n",
    "        sub=a-b\n",
    "        print(\"difference of numbers :\",sub)\n",
    "    else:\n",
    "        sub=b-a\n",
    "        print(\"difference of numbers :\",sub)\n",
    "elif op==\"*\":\n",
    "    multiply=a*b\n",
    "    print(\"product of numbers :\",multiply)\n",
    "elif op==\"/\":\n",
    "    if a<b:\n",
    "        devide=b/a\n",
    "        print(\"division of numbers :\",devide)\n",
    "    else:\n",
    "        devide=a/b\n",
    "        print(\"division of numbers :\",devide)"
   ]
  },
  {
   "cell_type": "code",
   "execution_count": null,
   "id": "9023d485",
   "metadata": {},
   "outputs": [],
   "source": [
    "x=int(input(\"enter the number :\"))\n",
    "if x%2==0:\n",
    "    print(\"x is a even number\")"
   ]
  },
  {
   "cell_type": "code",
   "execution_count": null,
   "id": "9d5d0754",
   "metadata": {},
   "outputs": [],
   "source": [
    "x=int(input(\"enter the number :\"))\n",
    "if x%2==0:\n",
    "    print(\"x is a even number \")\n",
    "else:\n",
    "    print(\"x is a odd number\")"
   ]
  },
  {
   "cell_type": "code",
   "execution_count": null,
   "id": "8ffd4ea7",
   "metadata": {},
   "outputs": [],
   "source": [
    "a=int(input(\"enter a :\"))\n",
    "b=int(input(\"enter b :\"))\n",
    "c=int(input(\"enter c :\"))\n",
    "if a>b and a>c:\n",
    "    print(\"a is a greater :\",a)\n",
    "elif b>a and b>c:\n",
    "    print(\"b is a greater :\",b)\n",
    "elif c>a and c>b:\n",
    "    print(\"c is a greater :\",c)"
   ]
  },
  {
   "cell_type": "code",
   "execution_count": null,
   "id": "5b5fa712",
   "metadata": {},
   "outputs": [],
   "source": [
    "a=int(input(\"enter your age :\"))\n",
    "if a>=18:\n",
    "    print(\"you are eligible to vote :\",a)\n",
    "else:\n",
    "    print(\"you are not eligible to vote :\",a)\n",
    "\n",
    "\n",
    "\n"
   ]
  },
  {
   "cell_type": "code",
   "execution_count": null,
   "id": "ca038d1b",
   "metadata": {},
   "outputs": [],
   "source": [
    "x=int(input(\"enter your age :\"))\n",
    "if x>=21:\n",
    "    print(\"your eligible to marriage :\",x)\n",
    "else:\n",
    "    print(\"your not eligible to marriage :\",x)"
   ]
  },
  {
   "cell_type": "code",
   "execution_count": null,
   "id": "9c8c4d41",
   "metadata": {},
   "outputs": [],
   "source": [
    "a=int(input(\"enter a positive number :\"))\n",
    "if a%2==0:\n",
    "    print(\" given number is a even number :\",a)\n",
    "else:\n",
    "    print(\" given number is a odd number :\",a)"
   ]
  },
  {
   "cell_type": "code",
   "execution_count": null,
   "id": "9c24d0f5",
   "metadata": {},
   "outputs": [],
   "source": [
    "a=int(input(\"enter the marks :\"))\n",
    "if a>85 and a<100:\n",
    "    print(\"congrats ! you got grade A :\" ,a )\n",
    "elif a>60 and a<85:\n",
    "    print(\"congrats ! you got grade B+ :\", a)\n",
    "elif a>45 and a<60:\n",
    "    print(\"congrats ! you got grade B :\", a)\n",
    "elif a>35 and a<45:\n",
    "    print(\"congrats ! you got grade c :\", a)\n",
    "else:\n",
    "    print(\"sorry! you are failed :\",a)\n"
   ]
  },
  {
   "cell_type": "code",
   "execution_count": null,
   "id": "f22d95ba",
   "metadata": {},
   "outputs": [],
   "source": [
    "a=int(input(\"enter the number :\"))\n",
    "b=int(input(\"enter the number :\"))\n",
    "print(\"A\") if a>b else print(\"B\")"
   ]
  },
  {
   "cell_type": "code",
   "execution_count": null,
   "id": "a60a609b",
   "metadata": {},
   "outputs": [],
   "source": [
    "a=int(input(\"enter the number :\"))\n",
    "b=int(input(\"enter the number :\"))\n",
    "print(\"a is greater\") if a>b else print(\"a is smaller\")"
   ]
  },
  {
   "cell_type": "code",
   "execution_count": null,
   "id": "170e084c",
   "metadata": {},
   "outputs": [],
   "source": [
    "x=int(input(\"enter the number :\"))\n",
    "y=int(input(\"enter the number :\"))\n",
    "print(\"b is smaller\") if a>b else print(\"b is greater\")"
   ]
  },
  {
   "cell_type": "code",
   "execution_count": null,
   "id": "04e2772e",
   "metadata": {},
   "outputs": [],
   "source": [
    "x=int(input(\"enter the number :\"))\n",
    "y=int(input(\"enter the number :\"))\n",
    "print(\"x is biggest\") if x>y else print(\"x is smaller\")"
   ]
  },
  {
   "cell_type": "code",
   "execution_count": null,
   "id": "d8ebfb8f",
   "metadata": {},
   "outputs": [],
   "source": [
    "x=int(input(\"enter the number :\"))\n",
    "y=int(input(\"enter the number :\"))\n",
    "print(\"x is biggest\") if x>y else print(\"y is biggest\") if x<y else print(\"both are equal\")"
   ]
  },
  {
   "cell_type": "code",
   "execution_count": null,
   "id": "6ed7bb87",
   "metadata": {},
   "outputs": [],
   "source": [
    "x=int(input(\"enter the number :\"))\n",
    "y=int(input(\"enter the number :\"))\n",
    "print(\"x is smaller \") if x<y else print(\"y is smaller\") if x>y else print(\"both are equal\")"
   ]
  },
  {
   "cell_type": "code",
   "execution_count": null,
   "id": "583d6ba2",
   "metadata": {},
   "outputs": [],
   "source": [
    "a=int(input(\"enter the value of a :\"))\n",
    "b=int(input(\"enter the value of b :\"))\n",
    "c=int(input(\"enter the value of c :\"))\n",
    "if a>b and a>c:\n",
    "    print(\"both are true\")"
   ]
  },
  {
   "cell_type": "code",
   "execution_count": null,
   "id": "a1a7f8e8",
   "metadata": {},
   "outputs": [],
   "source": [
    "a=int(input(\"enter the value of a :\"))\n",
    "b=int(input(\"enter the value of b :\"))\n",
    "c=int(input(\"enter the value of c :\"))\n",
    "if a>b or a>c:\n",
    "    print(\"atleast one of them is true \")\n",
    "else:\n",
    "    print(\"both are falls\")"
   ]
  },
  {
   "cell_type": "code",
   "execution_count": null,
   "id": "05ed79a3",
   "metadata": {},
   "outputs": [],
   "source": [
    "a=int(input(\"enter a positive number :\"))\n",
    "if a>10:\n",
    "    print(\"a is greater than 10 \")\n",
    "    if a==20:\n",
    "        print(\"a is equal to 20\")\n",
    "    else:\n",
    "        print(\"a is not equal to 20\")\n",
    "else:\n",
    "    print(\"a is less than 10\")"
   ]
  },
  {
   "cell_type": "code",
   "execution_count": null,
   "id": "c60f67d8",
   "metadata": {},
   "outputs": [],
   "source": [
    "tomorrow=input(\"enter the climate type :\")\n",
    "if tomorrow==\"warm\":\n",
    "    print(\"i will go to beach :\")\n",
    "elif tomorrow==\"very hot\":\n",
    "    print(\"i will go to forest ;\")\n",
    "elif tomorrow==\"cool\":\n",
    "    print(\"i will sit in home :\")\n",
    "else:\n",
    "    print(\"i will sleep :\")"
   ]
  },
  {
   "cell_type": "code",
   "execution_count": null,
   "id": "9bc402ca",
   "metadata": {},
   "outputs": [],
   "source": [
    "humidity=input(\"enter the humidity :\")\n",
    "temperature=input(\"enter the temperature :\")\n",
    "if humidity==\"low\" and temperature==\"high\":\n",
    "    print(\"desert area :\")\n",
    "elif humidity==\"high\" and temperature==\"high\":\n",
    "    print(\"tropical area :\")\n",
    "elif humidity==\"low\" and temperature==\"low\":\n",
    "    print(\"arctic area\")\n",
    "else:\n",
    "    print(\"i dont know the area\")"
   ]
  },
  {
   "cell_type": "code",
   "execution_count": null,
   "id": "a245475e",
   "metadata": {},
   "outputs": [],
   "source": [
    "a=int(input('enter the number :'))\n",
    "if a>23:\n",
    "    pass\n",
    "\n",
    "print(\"i will continue later\")"
   ]
  },
  {
   "cell_type": "code",
   "execution_count": null,
   "id": "32ecbba1",
   "metadata": {},
   "outputs": [],
   "source": [
    "i=1\n",
    "while i<5:\n",
    "    print(\"hii\",i)"
   ]
  },
  {
   "cell_type": "code",
   "execution_count": null,
   "id": "37f0724c",
   "metadata": {},
   "outputs": [],
   "source": [
    "print(\"welcome to python\")\n",
    "i=1\n",
    "while i<5:\n",
    "    print(\"welcome to machine learning\")\n",
    "i=i+1\n",
    "print(\"end\")\n",
    "print(i)"
   ]
  },
  {
   "cell_type": "code",
   "execution_count": null,
   "id": "cbe9e8b8",
   "metadata": {},
   "outputs": [],
   "source": [
    "print(\"gud morning\")\n",
    "i=1\n",
    "while i<2:\n",
    "    print(\"welcome\")\n",
    "i=i+1\n",
    "print(i)"
   ]
  },
  {
   "cell_type": "code",
   "execution_count": null,
   "id": "565a221e",
   "metadata": {},
   "outputs": [],
   "source": [
    "i=1\n",
    "sum=0\n",
    "while i<5:\n",
    "    sum=sum+i\n",
    "    print(\"hii\")\n",
    "    print(sum)"
   ]
  },
  {
   "cell_type": "code",
   "execution_count": null,
   "id": "c02e117c",
   "metadata": {},
   "outputs": [],
   "source": [
    "i=1\n",
    "while i<6:\n",
    "    i+=1\n",
    "    print(\"good\")\n",
    "    print(i)"
   ]
  },
  {
   "cell_type": "code",
   "execution_count": null,
   "id": "d15ae960",
   "metadata": {},
   "outputs": [],
   "source": [
    "i=1\n",
    "sum=0\n",
    "while i<6:\n",
    "    print(\"welcome\")\n",
    "    sum=sum+i\n",
    "    print(sum)"
   ]
  },
  {
   "cell_type": "code",
   "execution_count": null,
   "id": "f96897ce",
   "metadata": {},
   "outputs": [],
   "source": [
    "i=1\n",
    "sum=0\n",
    "while i<6:\n",
    "    print(\"welcome\")\n",
    "    if (sum==5):\n",
    "        break\n",
    "    sum=sum+i\n",
    "    print(sum)"
   ]
  },
  {
   "cell_type": "code",
   "execution_count": null,
   "id": "0fd984c0",
   "metadata": {},
   "outputs": [],
   "source": [
    "i=1\n",
    "sum=0\n",
    "while \"true\":\n",
    "    print(\"good\")\n",
    "    if i==10:\n",
    "        break\n",
    "    i=i+1\n",
    "    print(i)\n",
    "    "
   ]
  },
  {
   "cell_type": "code",
   "execution_count": null,
   "id": "9b028d78",
   "metadata": {},
   "outputs": [],
   "source": [
    "while \"true\":\n",
    "    username=input(\"enter the username :\")\n",
    "    if username!=\"afroz\":\n",
    "        continue\n",
    "    password=input(\"enter the password :\")\n",
    "    if password==\"sayyad\":\n",
    "        break\n",
    "print(\"access granted\")"
   ]
  },
  {
   "cell_type": "code",
   "execution_count": null,
   "id": "90d0ddce",
   "metadata": {},
   "outputs": [],
   "source": [
    "i=1\n",
    "while i<6:\n",
    "    print(\"welcome\")\n",
    "    if i==3:\n",
    "        continue\n",
    "    i+=1\n",
    "    print(i)"
   ]
  },
  {
   "cell_type": "code",
   "execution_count": null,
   "id": "6c80df90",
   "metadata": {},
   "outputs": [],
   "source": [
    "cl=int(input(\"enter the current level :\"))\n",
    "fl=6\n",
    "gm=\"true\"\n",
    "while cl<=fl:\n",
    "    if gm:\n",
    "        print(\"you passed the current level :\",cl)\n",
    "        cl+=1\n",
    "print(\"level ends\")"
   ]
  },
  {
   "cell_type": "code",
   "execution_count": null,
   "id": "5d9bedf3",
   "metadata": {},
   "outputs": [],
   "source": [
    "current_level=int(input(\"enter the current level :\"))\n",
    "final_level=int(input(\"enter the final level :\"))\n",
    "game_comleted==\"true\"\n",
    "while current_level<=final_level:\n",
    "    if \"game_completed\":\n",
    "        current_level+=1\n",
    "        print(\"you won the current level :\",current_level)\n",
    "print(\"game end\")"
   ]
  },
  {
   "cell_type": "code",
   "execution_count": null,
   "id": "b393e5b0",
   "metadata": {},
   "outputs": [],
   "source": [
    "num=int(input(\"enter the number :\"))\n",
    "summation=0\n",
    "c=1\n",
    "while c<=num:\n",
    "    summation=c**2+summation\n",
    "    c=c+1\n",
    "    print(\"sum of squares of natural numbers :\",summation)"
   ]
  },
  {
   "cell_type": "code",
   "execution_count": null,
   "id": "375c1a4c",
   "metadata": {},
   "outputs": [],
   "source": [
    "a=int(input(\"enter the number :\"))\n",
    "sum=0\n",
    "i=1\n",
    "while i<=a:\n",
    "    sum=i**3+sum\n",
    "    i+=1\n",
    "    print(\"sum of 3 times of numbers :\",sum)"
   ]
  },
  {
   "cell_type": "code",
   "execution_count": null,
   "id": "279dcb5f",
   "metadata": {},
   "outputs": [],
   "source": [
    "a=int(input(\"enter a :\"))\n",
    "b=int(input(\"enter b :\"))\n",
    "while b<=10:\n",
    " \n",
    "    multiplication=a*b\n",
    "    b+=1\n",
    "    print(a,\"*\",b,\"=\",multiplication)"
   ]
  },
  {
   "cell_type": "code",
   "execution_count": null,
   "id": "90443328",
   "metadata": {},
   "outputs": [],
   "source": [
    "a=[12,23,43,321]\n",
    "b=[]\n",
    "while a:\n",
    "    b.append(a.pop()**2)\n",
    "    print(b)"
   ]
  },
  {
   "cell_type": "code",
   "execution_count": null,
   "id": "af3c15b3",
   "metadata": {},
   "outputs": [],
   "source": [
    "a=[12,344,53,132435]\n",
    "b=[]\n",
    "while a:\n",
    "    b.append(a.pop()**4)\n",
    "    print(b)"
   ]
  },
  {
   "cell_type": "code",
   "execution_count": null,
   "id": "c32697a9",
   "metadata": {},
   "outputs": [],
   "source": [
    "a=[12,344,53,132435]\n",
    "b=[]\n",
    "while  a:\n",
    "    b.append(a.pop()**2)\n",
    "    print(b)"
   ]
  },
  {
   "cell_type": "code",
   "execution_count": null,
   "id": "1efe8af0",
   "metadata": {},
   "outputs": [],
   "source": [
    "a=int(input(\"enter the number of rows \"))\n",
    "for a in range(0,a):\n",
    "    for i in range(0,a):\n",
    "        print(\"* \",end=\" \")\n",
    "    print()        \n",
    "      \n",
    "    "
   ]
  },
  {
   "cell_type": "code",
   "execution_count": null,
   "id": "8f72dcd8",
   "metadata": {},
   "outputs": [],
   "source": [
    "def add(a,b):\n",
    "    c=a+b\n",
    "    return c"
   ]
  },
  {
   "cell_type": "code",
   "execution_count": null,
   "id": "47e91db3",
   "metadata": {},
   "outputs": [],
   "source": [
    "add(23,564)"
   ]
  },
  {
   "cell_type": "code",
   "execution_count": null,
   "id": "1f667f2e",
   "metadata": {},
   "outputs": [],
   "source": [
    "def add(name,msg):\n",
    "    return (\"hello\",name,msg)"
   ]
  },
  {
   "cell_type": "code",
   "execution_count": null,
   "id": "9778cc4e",
   "metadata": {},
   "outputs": [],
   "source": [
    "add(\"subhani\",\"gud after noon\")"
   ]
  },
  {
   "cell_type": "code",
   "execution_count": null,
   "id": "bcf2c09c",
   "metadata": {},
   "outputs": [],
   "source": [
    "def add(name,msg):\n",
    "    print(\"hello\",name,msg)"
   ]
  },
  {
   "cell_type": "code",
   "execution_count": null,
   "id": "9eb8b5db",
   "metadata": {},
   "outputs": [],
   "source": [
    "add(\"subhani\",\"gud after noon\")"
   ]
  },
  {
   "cell_type": "code",
   "execution_count": null,
   "id": "c43adfc1",
   "metadata": {},
   "outputs": [],
   "source": [
    "def add(*a,b):\n",
    "    c=a*b\n",
    "    print(c)"
   ]
  },
  {
   "cell_type": "code",
   "execution_count": null,
   "id": "7bb819fd",
   "metadata": {},
   "outputs": [],
   "source": [
    "add(12,23,b=223)"
   ]
  },
  {
   "cell_type": "code",
   "execution_count": null,
   "id": "215d2eab",
   "metadata": {},
   "outputs": [],
   "source": [
    "def add(**b):\n",
    "    print(b[\"fruits\"])\n",
    "    \n",
    "b=[games=\"cricket\",sport=\"chess\",veg='potato',fruits=\"mango\"]"
   ]
  },
  {
   "cell_type": "code",
   "execution_count": null,
   "id": "64f42538",
   "metadata": {},
   "outputs": [],
   "source": [
    "def add(**a):\n",
    "    print('hello',a[\"first_name\"],a[\"last_name\"])"
   ]
  },
  {
   "cell_type": "code",
   "execution_count": null,
   "id": "9cdef5d1",
   "metadata": {},
   "outputs": [],
   "source": [
    "add(first_name=\"subhani\",last_name=\"sayyad\")"
   ]
  },
  {
   "cell_type": "code",
   "execution_count": null,
   "id": "36aac41d",
   "metadata": {},
   "outputs": [],
   "source": [
    "def sayyad(**a):\n",
    "    print(\"welcome\",a[\"first_name\"],a[\"last_name\"])"
   ]
  },
  {
   "cell_type": "code",
   "execution_count": null,
   "id": "bb1afcea",
   "metadata": {},
   "outputs": [],
   "source": [
    "sayyad(first_name=\"sayyad\",last_name=\"subhani\")"
   ]
  },
  {
   "cell_type": "code",
   "execution_count": null,
   "id": "204fe3de",
   "metadata": {},
   "outputs": [],
   "source": [
    "def sbi(opb,am,op):\n",
    "    print(\"welcome to the online banking SBI\")\n",
    "   \n",
    "    if op==\"deposit\":\n",
    "        A=opb+am\n",
    "        print(\"remaing balance in the account :\",A)\n",
    "    elif op==\"withdraw\":\n",
    "        A=opb-am\n",
    "        print(\"remaing balance in the account :\",A)\n",
    "    else:\n",
    "        print(\"enter the valid amount :\")\n",
    "        "
   ]
  },
  {
   "cell_type": "code",
   "execution_count": null,
   "id": "6e14da73",
   "metadata": {},
   "outputs": [],
   "source": [
    "sbi(23424,3544,\"withdraw\")"
   ]
  },
  {
   "cell_type": "code",
   "execution_count": null,
   "id": "acef9e21",
   "metadata": {},
   "outputs": [],
   "source": [
    "sbi(2345,543312,\"deposit\")"
   ]
  },
  {
   "cell_type": "code",
   "execution_count": null,
   "id": "1c8cce1d",
   "metadata": {},
   "outputs": [],
   "source": [
    "sbi(2345,34567,\"\")"
   ]
  },
  {
   "cell_type": "code",
   "execution_count": null,
   "id": "cfabc1a5",
   "metadata": {},
   "outputs": [],
   "source": [
    "sbi(234,3456,\"withdraw\")"
   ]
  },
  {
   "cell_type": "code",
   "execution_count": null,
   "id": "9fa9919a",
   "metadata": {},
   "outputs": [],
   "source": [
    "sbi(2445,4331,\"deposit\")"
   ]
  },
  {
   "cell_type": "code",
   "execution_count": null,
   "id": "b08df5b1",
   "metadata": {},
   "outputs": [],
   "source": [
    "def sayyad(name,section):\n",
    "    print(f\"hello {name}.are you from {section} section\")"
   ]
  },
  {
   "cell_type": "code",
   "execution_count": null,
   "id": "a4042e4c",
   "metadata": {},
   "outputs": [],
   "source": [
    "sayyad(\"reshma\",\"A\")"
   ]
  },
  {
   "cell_type": "code",
   "execution_count": null,
   "id": "8cc7532f",
   "metadata": {},
   "outputs": [],
   "source": [
    "def add(name,game):\n",
    "    print(f\"hello mister {name},you will like playing {game}?\")"
   ]
  },
  {
   "cell_type": "code",
   "execution_count": null,
   "id": "055bb7e4",
   "metadata": {},
   "outputs": [],
   "source": [
    "add(\"roser\",\"vollyball\")"
   ]
  },
  {
   "cell_type": "code",
   "execution_count": null,
   "id": "a839a7e2",
   "metadata": {},
   "outputs": [],
   "source": [
    "def sam(name,name1):\n",
    "    print(f\"hello mister {name}, when you are going to marry {name1}.\")"
   ]
  },
  {
   "cell_type": "code",
   "execution_count": null,
   "id": "3ceb30ce",
   "metadata": {},
   "outputs": [],
   "source": [
    "sam(\"subhani\",\"nazma\")"
   ]
  },
  {
   "cell_type": "code",
   "execution_count": null,
   "id": "05bc0662",
   "metadata": {},
   "outputs": [],
   "source": [
    "def hotel(bill_amount,tip_perc):\n",
    "    tip=bill_amount*(tip_perc/100)\n",
    "    total=bill_amount+tip\n",
    "    print(f\"your bill amount : {total}\")"
   ]
  },
  {
   "cell_type": "code",
   "execution_count": null,
   "id": "68e5148b",
   "metadata": {},
   "outputs": [],
   "source": [
    "hotel(234,7)"
   ]
  },
  {
   "cell_type": "code",
   "execution_count": null,
   "id": "7c187bf1",
   "metadata": {},
   "outputs": [],
   "source": [
    "def res(bill,tip_per):\n",
    "    tip=bill*(tip_per/100)\n",
    "    total=bill+tip\n",
    "    print(f\"your bill amount : {total}\")\n",
    "    print(\"tq\")"
   ]
  },
  {
   "cell_type": "code",
   "execution_count": null,
   "id": "c158cd7c",
   "metadata": {},
   "outputs": [],
   "source": [
    "res(2345,23)"
   ]
  },
  {
   "cell_type": "code",
   "execution_count": null,
   "id": "04b87c03",
   "metadata": {},
   "outputs": [],
   "source": [
    "def add(*a):\n",
    "    sum=0\n",
    "    for a in a:\n",
    "        sum+=a\n",
    "        print(sum)"
   ]
  },
  {
   "cell_type": "code",
   "execution_count": null,
   "id": "ba78d891",
   "metadata": {},
   "outputs": [],
   "source": [
    "add(12,13,13424,1323)"
   ]
  },
  {
   "cell_type": "code",
   "execution_count": null,
   "id": "9aaaa1ad",
   "metadata": {},
   "outputs": [],
   "source": [
    "def add(*a):\n",
    "    sum=2\n",
    "    for i in a:\n",
    "        sum+=i\n",
    "        print(sum)"
   ]
  },
  {
   "cell_type": "code",
   "execution_count": null,
   "id": "208bc053",
   "metadata": {},
   "outputs": [],
   "source": [
    "add(23456,544321,2345,123)"
   ]
  },
  {
   "cell_type": "code",
   "execution_count": 12,
   "id": "57c8a6f6",
   "metadata": {},
   "outputs": [],
   "source": [
    "def sayyad(*a):\n",
    "    print(a[0:2])\n",
    "    \n",
    "b=[game:=\"cricket\",sport:=\"vollyball\",veg:=\"potato\",fruits:=\"banana\"]"
   ]
  },
  {
   "cell_type": "code",
   "execution_count": 13,
   "id": "826c28bf",
   "metadata": {},
   "outputs": [
    {
     "name": "stdout",
     "output_type": "stream",
     "text": [
      "('cricket', 'vollyball')\n"
     ]
    }
   ],
   "source": [
    "sayyad(game:=\"cricket\",sport:=\"vollyball\",veg:=\"potato\",fruits:=\"banana\")"
   ]
  },
  {
   "cell_type": "code",
   "execution_count": 14,
   "id": "e2c6e10d",
   "metadata": {},
   "outputs": [
    {
     "name": "stdout",
     "output_type": "stream",
     "text": [
      "('cricket', 'vollyball')\n"
     ]
    }
   ],
   "source": [
    "sayyad(game:=\"cricket\",sport:=\"vollyball\",veg:=\"potato\",fruits:=\"banana\")"
   ]
  },
  {
   "cell_type": "code",
   "execution_count": 25,
   "id": "43b1f655",
   "metadata": {},
   "outputs": [],
   "source": [
    "def sayyad (*a):\n",
    "    for i in a:\n",
    "        square_number=i**2\n",
    "        print(\"square numbers are :\",square_number)"
   ]
  },
  {
   "cell_type": "code",
   "execution_count": 26,
   "id": "7c328d5e",
   "metadata": {},
   "outputs": [
    {
     "name": "stdout",
     "output_type": "stream",
     "text": [
      "square numbers are : 169\n",
      "square numbers are : 1764\n",
      "square numbers are : 529\n",
      "square numbers are : 42810849\n",
      "square numbers are : 484\n"
     ]
    }
   ],
   "source": [
    "sayyad(13,42,23,6543,22)"
   ]
  },
  {
   "cell_type": "code",
   "execution_count": 29,
   "id": "103d72d4",
   "metadata": {},
   "outputs": [],
   "source": [
    "def sayyad(*a):\n",
    "    x=[]\n",
    "    for i in a:\n",
    "        x.append(i**2)\n",
    "        print(x)"
   ]
  },
  {
   "cell_type": "code",
   "execution_count": 30,
   "id": "62d5fcb5",
   "metadata": {},
   "outputs": [
    {
     "name": "stdout",
     "output_type": "stream",
     "text": [
      "[169]\n",
      "[169, 1764]\n",
      "[169, 1764, 529]\n",
      "[169, 1764, 529, 42810849]\n",
      "[169, 1764, 529, 42810849, 484]\n"
     ]
    }
   ],
   "source": [
    "sayyad(13,42,23,6543,22)"
   ]
  },
  {
   "cell_type": "code",
   "execution_count": 31,
   "id": "51b0c05f",
   "metadata": {},
   "outputs": [],
   "source": [
    "def sayyad(*a):\n",
    "    x=[]\n",
    "    for i in a:\n",
    "        x.append(i**3)\n",
    "        print(x)"
   ]
  },
  {
   "cell_type": "code",
   "execution_count": 32,
   "id": "ab73419f",
   "metadata": {},
   "outputs": [
    {
     "name": "stdout",
     "output_type": "stream",
     "text": [
      "[2197]\n",
      "[2197, 74088]\n",
      "[2197, 74088, 12167]\n",
      "[2197, 74088, 12167, 280111385007]\n",
      "[2197, 74088, 12167, 280111385007, 10648]\n"
     ]
    }
   ],
   "source": [
    "sayyad(13,42,23,6543,22)"
   ]
  },
  {
   "cell_type": "code",
   "execution_count": null,
   "id": "0d35620b",
   "metadata": {},
   "outputs": [],
   "source": []
  }
 ],
 "metadata": {
  "kernelspec": {
   "display_name": "Python 3 (ipykernel)",
   "language": "python",
   "name": "python3"
  },
  "language_info": {
   "codemirror_mode": {
    "name": "ipython",
    "version": 3
   },
   "file_extension": ".py",
   "mimetype": "text/x-python",
   "name": "python",
   "nbconvert_exporter": "python",
   "pygments_lexer": "ipython3",
   "version": "3.11.1"
  }
 },
 "nbformat": 4,
 "nbformat_minor": 5
}
